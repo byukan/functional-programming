{
 "cells": [
  {
   "cell_type": "code",
   "execution_count": 1,
   "metadata": {
    "collapsed": true
   },
   "outputs": [],
   "source": [
    "# https://maryrosecook.com/blog/post/a-practical-introduction-to-functional-programming"
   ]
  },
  {
   "cell_type": "code",
   "execution_count": 24,
   "metadata": {
    "collapsed": false,
    "scrolled": true
   },
   "outputs": [
    {
     "data": {
      "text/plain": [
       "[3, 4, 5]"
      ]
     },
     "execution_count": 24,
     "metadata": {},
     "output_type": "execute_result"
    }
   ],
   "source": [
    "name_lengths = [*map(len, [\"Tom\", \"Dick\", \"Harry\"])]\n",
    "name_lengths"
   ]
  },
  {
   "cell_type": "code",
   "execution_count": 27,
   "metadata": {
    "collapsed": false
   },
   "outputs": [
    {
     "data": {
      "text/plain": [
       "[3, 4, 5]"
      ]
     },
     "execution_count": 27,
     "metadata": {},
     "output_type": "execute_result"
    }
   ],
   "source": [
    "name_lengths = map(len, [\"Tom\", \"Dick\", \"Harry\"])\n",
    "# list(name_lengths)\n",
    "[*name_lengths]"
   ]
  },
  {
   "cell_type": "code",
   "execution_count": 26,
   "metadata": {
    "collapsed": false
   },
   "outputs": [
    {
     "data": {
      "text/plain": [
       "[0, 1, 4, 9, 16]"
      ]
     },
     "execution_count": 26,
     "metadata": {},
     "output_type": "execute_result"
    }
   ],
   "source": [
    "squares = map(lambda x: x*x, [0, 1, 2, 3, 4])\n",
    "[*squares]"
   ]
  },
  {
   "cell_type": "code",
   "execution_count": 32,
   "metadata": {
    "collapsed": false
   },
   "outputs": [
    {
     "data": {
      "text/plain": [
       "['Mr. Blonde', 'Mr. Orange', 'Mr. Blonde']"
      ]
     },
     "execution_count": 32,
     "metadata": {},
     "output_type": "execute_result"
    }
   ],
   "source": [
    "import random\n",
    "\n",
    "names = [\"Tom\", \"Dick\", \"Harry\"]\n",
    "code_names = [\"Mr. Pink\", \"Mr. Orange\", \"Mr. Blonde\"]\n",
    "\n",
    "[*map(lambda x: random.choice(code_names), names)]"
   ]
  },
  {
   "cell_type": "code",
   "execution_count": 41,
   "metadata": {
    "collapsed": false
   },
   "outputs": [
    {
     "data": {
      "text/plain": [
       "[3525896265315139199, -9051710198935987242, -3032321848606919331]"
      ]
     },
     "execution_count": 41,
     "metadata": {},
     "output_type": "execute_result"
    }
   ],
   "source": [
    "team_7 = [\"Naruto\", \"Sasuke\", \"Sakura\"]\n",
    "\n",
    "# [*map(lambda x: hash(x), team_7)]\n",
    "[*map(hash, team_7)]"
   ]
  },
  {
   "cell_type": "code",
   "execution_count": 72,
   "metadata": {
    "collapsed": false,
    "scrolled": true
   },
   "outputs": [
    {
     "data": {
      "text/plain": [
       "10"
      ]
     },
     "execution_count": 72,
     "metadata": {},
     "output_type": "execute_result"
    }
   ],
   "source": [
    "from functools import reduce\n",
    "\n",
    "v = [0, 1, 2, 3, 4]\n",
    "\n",
    "total = reduce(lambda a, x: a+x, v)  # a is the accumulator, lambda function returns result as the a of the next iteration\n",
    "total"
   ]
  },
  {
   "cell_type": "code",
   "execution_count": 88,
   "metadata": {
    "collapsed": false
   },
   "outputs": [
    {
     "data": {
      "text/plain": [
       "3"
      ]
     },
     "execution_count": 88,
     "metadata": {},
     "output_type": "execute_result"
    }
   ],
   "source": [
    "sentences = ['Mary read a story to Sam and Isla.',\n",
    "             'Isla cuddled Sam.',\n",
    "             'Sam chortled.']\n",
    "\n",
    "reduce(lambda a, x: a + x.count(\"Sam\"), sentences, 0)"
   ]
  },
  {
   "cell_type": "code",
   "execution_count": 114,
   "metadata": {
    "collapsed": false
   },
   "outputs": [
    {
     "data": {
      "text/plain": [
       "[{'height': 160, 'name': 'Mary'}, {'height': 80, 'name': 'Isla'}]"
      ]
     },
     "execution_count": 114,
     "metadata": {},
     "output_type": "execute_result"
    }
   ],
   "source": [
    "people = [{'name': 'Mary', 'height': 160},\n",
    "          {'name': 'Isla', 'height': 80},\n",
    "          {'name': 'Sam'}]\n",
    "\n",
    "# reduce(lambda a, x: a + x['height'] if 'height' in x, sentences, 0)\n",
    "heights = [*filter(lambda x: 'height' in x, people)]\n",
    "# [*height_count]\n",
    "heights"
   ]
  },
  {
   "cell_type": "code",
   "execution_count": 115,
   "metadata": {
    "collapsed": false,
    "scrolled": true
   },
   "outputs": [
    {
     "data": {
      "text/plain": [
       "240"
      ]
     },
     "execution_count": 115,
     "metadata": {},
     "output_type": "execute_result"
    }
   ],
   "source": [
    "height_total = reduce(lambda a, x: a + x['height'], heights, 0)\n",
    "height_total"
   ]
  },
  {
   "cell_type": "code",
   "execution_count": 116,
   "metadata": {
    "collapsed": false
   },
   "outputs": [
    {
     "data": {
      "text/plain": [
       "120.0"
      ]
     },
     "execution_count": 116,
     "metadata": {},
     "output_type": "execute_result"
    }
   ],
   "source": [
    "if len(heights):\n",
    "    average_height = height_total/len(heights)\n",
    "\n",
    "average_height"
   ]
  },
  {
   "cell_type": "code",
   "execution_count": 129,
   "metadata": {
    "collapsed": false
   },
   "outputs": [
    {
     "data": {
      "text/plain": [
       "120.0"
      ]
     },
     "execution_count": 129,
     "metadata": {},
     "output_type": "execute_result"
    }
   ],
   "source": [
    "heights = [*map(lambda x: x['height'], filter(lambda x: 'height' in x, people))]\n",
    "[*heights]\n",
    "\n",
    "from operator import add\n",
    "\n",
    "if len(heights):\n",
    "    average_height = reduce(add, heights) / len(heights)\n",
    "    \n",
    "average_height"
   ]
  },
  {
   "cell_type": "code",
   "execution_count": 130,
   "metadata": {
    "collapsed": false
   },
   "outputs": [
    {
     "name": "stdout",
     "output_type": "stream",
     "text": [
      "\n",
      "-\n",
      "--\n",
      "--\n",
      "\n",
      "--\n",
      "---\n",
      "---\n",
      "\n",
      "--\n",
      "----\n",
      "---\n",
      "\n",
      "---\n",
      "-----\n",
      "----\n",
      "\n",
      "----\n",
      "------\n",
      "-----\n"
     ]
    }
   ],
   "source": [
    "# imperatively written\n",
    "\n",
    "from random import random\n",
    "\n",
    "time = 5\n",
    "car_positions = [1, 1, 1]\n",
    "\n",
    "while time:  # decrease time\n",
    "    time -= 1\n",
    "    \n",
    "    print(\"\")\n",
    "    for i in range(len(car_positions)):\n",
    "        # move car\n",
    "        if random() > .3:\n",
    "            car_positions[i] += 1\n",
    "            \n",
    "        # draw car\n",
    "        print(\"-\" * car_positions[i])"
   ]
  },
  {
   "cell_type": "code",
   "execution_count": 133,
   "metadata": {
    "collapsed": false
   },
   "outputs": [
    {
     "name": "stdout",
     "output_type": "stream",
     "text": [
      "\n",
      "--\n",
      "-\n",
      "--\n",
      "\n",
      "--\n",
      "--\n",
      "--\n",
      "\n",
      "---\n",
      "---\n",
      "---\n",
      "\n",
      "----\n",
      "----\n",
      "---\n",
      "\n",
      "-----\n",
      "-----\n",
      "---\n"
     ]
    }
   ],
   "source": [
    "# made declarative by using functions\n",
    "\n",
    "def move_cars():\n",
    "    for i in range(len(car_positions)):\n",
    "        if random() > .3:\n",
    "            car_positions[i] += 1\n",
    "            \n",
    "def draw_car(car_position):\n",
    "    print(\"-\" * car_position)\n",
    "    \n",
    "def run_step_of_race():\n",
    "    global time\n",
    "    time -= 1\n",
    "    move_cars()\n",
    "    \n",
    "def draw():\n",
    "    print(\"\")\n",
    "    for car_position in car_positions:\n",
    "        draw_car(car_position)\n",
    "        \n",
    "time = 5\n",
    "car_positions = [1, 1, 1]\n",
    "\n",
    "while time:\n",
    "    run_step_of_race()\n",
    "    draw()"
   ]
  },
  {
   "cell_type": "code",
   "execution_count": 139,
   "metadata": {
    "collapsed": false
   },
   "outputs": [
    {
     "name": "stdout",
     "output_type": "stream",
     "text": [
      "\n",
      "-\n",
      "-\n",
      "-\n",
      "\n",
      "-\n",
      "--\n",
      "--\n",
      "\n",
      "--\n",
      "---\n",
      "---\n",
      "\n",
      "---\n",
      "----\n",
      "----\n",
      "\n",
      "---\n",
      "----\n",
      "-----\n",
      "\n",
      "----\n",
      "-----\n",
      "-----\n"
     ]
    }
   ],
   "source": [
    "# remove state, functional version\n",
    "\n",
    "def move_cars(car_positions):\n",
    "    return [*map(lambda x: x + 1 if random() > .3 else x, car_positions)]\n",
    "\n",
    "def output_car(car_position):\n",
    "    return '-' * car_position\n",
    "\n",
    "def run_step_of_race(state):\n",
    "    return {'time': state['time']-1,\n",
    "            'car_positions': move_cars(state['car_positions'])}\n",
    "\n",
    "def draw(state):\n",
    "    print('')\n",
    "    print(\"\\n\".join(map(output_car, state['car_positions'])))\n",
    "    \n",
    "def race(state):\n",
    "    draw(state)\n",
    "    if state['time']:\n",
    "        race(run_step_of_race(state))\n",
    "\n",
    "race({'time': 5, 'car_positions': [1, 1, 1]})"
   ]
  },
  {
   "cell_type": "code",
   "execution_count": 141,
   "metadata": {
    "collapsed": true
   },
   "outputs": [],
   "source": [
    "def zero(s):\n",
    "    if s[0] == '0':\n",
    "        return s[1:]\n",
    "    \n",
    "def one(s):\n",
    "    if s[0] == '1':\n",
    "        return s[1:]\n",
    "\n",
    "# imperative version\n",
    "def rule_sequence(s, rules):\n",
    "    for rule in rules:\n",
    "        s = rule(s)\n",
    "        if s == None:\n",
    "            break\n",
    "    return s"
   ]
  },
  {
   "cell_type": "code",
   "execution_count": 142,
   "metadata": {
    "collapsed": false
   },
   "outputs": [
    {
     "name": "stdout",
     "output_type": "stream",
     "text": [
      "1\n",
      "None\n"
     ]
    }
   ],
   "source": [
    "print(rule_sequence('0101', [zero, one, zero]))\n",
    "print(rule_sequence('0101', [zero, zero]))"
   ]
  },
  {
   "cell_type": "code",
   "execution_count": 146,
   "metadata": {
    "collapsed": false
   },
   "outputs": [
    {
     "name": "stdout",
     "output_type": "stream",
     "text": [
      "1\n",
      "None\n"
     ]
    }
   ],
   "source": [
    "# declarative version, rewritten as a recursion\n",
    "\n",
    "def rule_sequence(s, rules):\n",
    "    if s is None or not rules:\n",
    "        return s\n",
    "    else:\n",
    "        return rule_sequence(rules[0](s), rules[1:])\n",
    "    \n",
    "print(rule_sequence('0101', [zero, one, zero]))\n",
    "print(rule_sequence('0101', [zero, zero]))"
   ]
  },
  {
   "cell_type": "code",
   "execution_count": 149,
   "metadata": {
    "collapsed": false
   },
   "outputs": [
    {
     "name": "stdout",
     "output_type": "stream",
     "text": [
      "[{'country': 'Canada', 'active': False, 'name': 'Sunset Rubdown'}, {'country': 'Canada', 'active': False, 'name': 'Women'}, {'country': 'Canada', 'active': True, 'name': 'A Silver Mt Zion'}]\n"
     ]
    }
   ],
   "source": [
    "bands = [{'name': 'sunset rubdown', 'country': 'UK', 'active': False},\n",
    "         {'name': 'women', 'country': 'Germany', 'active': False},\n",
    "         {'name': 'a silver mt. zion', 'country': 'Spain', 'active': True}]\n",
    "\n",
    "def format_bands():\n",
    "    for band in bands:\n",
    "        band['country'] = 'Canada'\n",
    "        band['name'] = band['name'].replace(\".\", \"\")\n",
    "        band['name'] = band['name'].title()\n",
    "        \n",
    "format_bands()\n",
    "\n",
    "print(bands)"
   ]
  },
  {
   "cell_type": "code",
   "execution_count": 154,
   "metadata": {
    "collapsed": false
   },
   "outputs": [
    {
     "name": "stdout",
     "output_type": "stream",
     "text": [
      "[{'country': 'Canada', 'name': 'Sunset Rubdown', 'active': False}, {'country': 'Canada', 'name': 'Women', 'active': False}, {'country': 'Canada', 'name': 'A Silver Mt Zion', 'active': True}]\n"
     ]
    }
   ],
   "source": [
    "# use pipelines\n",
    "\n",
    "# associate\n",
    "def assoc(_d, key, value):\n",
    "    from copy import deepcopy\n",
    "    d = deepcopy(_d)\n",
    "    d[key] = value\n",
    "    return d\n",
    "\n",
    "def set_canada_as_country(band):\n",
    "    return assoc(band, \"country\", \"Canada\")\n",
    "\n",
    "def strip_punctuation(band):\n",
    "    return assoc(band, \"name\", band[\"name\"].replace(\".\", \"\"))\n",
    "\n",
    "def capitalize_names(band):\n",
    "    return assoc(band, \"name\", band[\"name\"].title())\n",
    "\n",
    "def pipeline_each(data, fns):\n",
    "    return reduce(lambda a, x: map(x, a), fns, data)\n",
    "\n",
    "bands = [{'name': 'sunset rubdown', 'country': 'UK', 'active': False},\n",
    "         {'name': 'women', 'country': 'Germany', 'active': False},\n",
    "         {'name': 'a silver mt. zion', 'country': 'Spain', 'active': True}]\n",
    "\n",
    "print([*pipeline_each(bands, [set_canada_as_country, strip_punctuation, capitalize_names])])"
   ]
  },
  {
   "cell_type": "code",
   "execution_count": 158,
   "metadata": {
    "collapsed": false
   },
   "outputs": [
    {
     "name": "stdout",
     "output_type": "stream",
     "text": [
      "[{'country': 'Canada', 'name': 'Sunset Rubdown', 'active': False}, {'country': 'Canada', 'name': 'Women', 'active': False}, {'country': 'Canada', 'name': 'A Silver Mt Zion', 'active': True}]\n"
     ]
    }
   ],
   "source": [
    "# higher order function takes a function as an argument and/or returns a function\n",
    "def call(fn, key):\n",
    "    def apply_fn(record):  # record could represent a band\n",
    "        # each instance of apply_fn() applies a transformation function\n",
    "        return assoc(record, key, fn(record.get(key)))  # record[key], calls fn on value and assigns the result back to a copy of the record\n",
    "    return apply_fn\n",
    "\n",
    "set_canada_as_country = call(lambda x: 'Canada', 'country')\n",
    "strip_punctuation_from_name = call(lambda x: x.replace(\".\", \"\"), 'name')\n",
    "capitalize_names = call(str.title, 'name')\n",
    "\n",
    "print([*pipeline_each(bands, [set_canada_as_country, strip_punctuation_from_name, capitalize_names])])"
   ]
  },
  {
   "cell_type": "code",
   "execution_count": 161,
   "metadata": {
    "collapsed": false
   },
   "outputs": [
    {
     "name": "stdout",
     "output_type": "stream",
     "text": [
      "[{'country': 'Canada', 'name': 'Sunset Rubdown'}, {'country': 'Canada', 'name': 'Women'}, {'country': 'Canada', 'name': 'A Silver Mt Zion'}]\n"
     ]
    }
   ],
   "source": [
    "def extract_name_and_country(band):\n",
    "    plucked_band = {}\n",
    "    plucked_band['name'] = band['name']\n",
    "    plucked_band['country'] = band['country']\n",
    "    return plucked_band\n",
    "\n",
    "print([*pipeline_each(bands, [call(lambda x: 'Canada', 'country'),\n",
    "                            call(lambda x: x.replace('.', ''), 'name'),\n",
    "                            call(str.title, 'name'),\n",
    "                            extract_name_and_country])])"
   ]
  },
  {
   "cell_type": "code",
   "execution_count": 163,
   "metadata": {
    "collapsed": true
   },
   "outputs": [],
   "source": [
    "def pluck(keys):\n",
    "    def pluck_fn(record):\n",
    "        return reduce(lambda a, x: assoc(x, a, record[x]),\n",
    "                      keys,\n",
    "                      {})\n",
    "    return pluck_fn"
   ]
  },
  {
   "cell_type": "code",
   "execution_count": null,
   "metadata": {
    "collapsed": true
   },
   "outputs": [],
   "source": []
  }
 ],
 "metadata": {
  "anaconda-cloud": {},
  "kernelspec": {
   "display_name": "Python [conda env:nlp]",
   "language": "python",
   "name": "conda-env-nlp-py"
  },
  "language_info": {
   "codemirror_mode": {
    "name": "ipython",
    "version": 3
   },
   "file_extension": ".py",
   "mimetype": "text/x-python",
   "name": "python",
   "nbconvert_exporter": "python",
   "pygments_lexer": "ipython3",
   "version": "3.5.2"
  }
 },
 "nbformat": 4,
 "nbformat_minor": 1
}
